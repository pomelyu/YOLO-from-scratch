{
 "cells": [
  {
   "cell_type": "code",
   "execution_count": 1,
   "metadata": {},
   "outputs": [],
   "source": [
    "# Path setup\n",
    "import sys\n",
    "import os\n",
    "import importlib\n",
    "import time\n",
    "from IPython.display import clear_output\n",
    "\n",
    "%matplotlib inline\n",
    "\n",
    "sys.path.append(os.path.dirname(os.path.join(os.getcwd(), \"../src\")))"
   ]
  },
  {
   "cell_type": "code",
   "execution_count": 2,
   "metadata": {},
   "outputs": [],
   "source": [
    "import numpy as np\n",
    "import matplotlib.pyplot as plt\n",
    "import pandas as pd"
   ]
  },
  {
   "cell_type": "code",
   "execution_count": 3,
   "metadata": {},
   "outputs": [],
   "source": [
    "from src import constants, utils"
   ]
  },
  {
   "cell_type": "code",
   "execution_count": 4,
   "metadata": {},
   "outputs": [],
   "source": [
    "VOC2007_IMAGE_DIR = \"../data/VOC2007/images/\"\n",
    "VOC2007_LABEL_DIR = \"../data/VOC2007/labels/\"\n",
    "VOC2012_IMAGE_DIR = \"../data/VOC2012/images/\"\n",
    "VOC2012_LABEL_DIR = \"../data/VOC2012/labels/\"\n",
    "VOC2007_TEST_IMAGE_DIR = \"../data/VOC2007_test/images\"\n",
    "VOC2007_TEST_LABEL_DIR = \"../data/VOC2007_test/labels\"\n",
    "\n",
    "TRAIN_VALID_SPLIT = 0.2"
   ]
  },
  {
   "cell_type": "code",
   "execution_count": 5,
   "metadata": {},
   "outputs": [],
   "source": [
    "apply_labels_dir = np.vectorize(lambda label, labels_dir: os.path.join(labels_dir, label))\n",
    "apply_images_dir = np.vectorize(lambda label, images_dir: os.path.join(images_dir, label.replace(\".txt\", \".jpg\")))"
   ]
  },
  {
   "cell_type": "code",
   "execution_count": 6,
   "metadata": {},
   "outputs": [
    {
     "name": "stdout",
     "output_type": "stream",
     "text": [
      "(5011,) (5011,)\n"
     ]
    }
   ],
   "source": [
    "voc2007_labels = [label for label in os.listdir(VOC2007_LABEL_DIR) if utils.isExtension(label, \".txt\")]\n",
    "voc2007_images = apply_images_dir(voc2007_labels, VOC2007_IMAGE_DIR)\n",
    "voc2007_labels = apply_labels_dir(voc2007_labels, VOC2007_LABEL_DIR)\n",
    "\n",
    "print(voc2007_labels.shape, voc2007_images.shape)"
   ]
  },
  {
   "cell_type": "code",
   "execution_count": 7,
   "metadata": {},
   "outputs": [
    {
     "name": "stdout",
     "output_type": "stream",
     "text": [
      "(5717,) (5717,)\n"
     ]
    }
   ],
   "source": [
    "voc2012_labels = [label for label in os.listdir(VOC2012_LABEL_DIR) if utils.isExtension(label, \".txt\")]\n",
    "voc2012_images = apply_images_dir(voc2012_labels, VOC2012_IMAGE_DIR)\n",
    "voc2012_labels = apply_labels_dir(voc2012_labels, VOC2012_LABEL_DIR)\n",
    "\n",
    "print(voc2012_labels.shape, voc2012_images.shape)"
   ]
  },
  {
   "cell_type": "code",
   "execution_count": 8,
   "metadata": {},
   "outputs": [
    {
     "name": "stdout",
     "output_type": "stream",
     "text": [
      "(4952,) (4952,)\n"
     ]
    }
   ],
   "source": [
    "voc2007_test_labels = [label for label in os.listdir(VOC2007_TEST_LABEL_DIR) if utils.isExtension(label, \".txt\")]\n",
    "voc2007_test_images = apply_images_dir(voc2007_test_labels, VOC2007_TEST_IMAGE_DIR)\n",
    "voc2007_test_labels = apply_labels_dir(voc2007_test_labels, VOC2007_TEST_LABEL_DIR)\n",
    "\n",
    "print(voc2007_test_labels.shape, voc2007_test_images.shape)"
   ]
  },
  {
   "cell_type": "markdown",
   "metadata": {},
   "source": [
    "# EDA"
   ]
  },
  {
   "cell_type": "code",
   "execution_count": 9,
   "metadata": {},
   "outputs": [],
   "source": [
    "GRID_SIZE = constants.GRID_SIZE\n",
    "grid_step = 1 / GRID_SIZE"
   ]
  },
  {
   "cell_type": "code",
   "execution_count": 10,
   "metadata": {},
   "outputs": [],
   "source": [
    "def read_labels_to_dataframe(labels):\n",
    "    df = pd.DataFrame(columns = [\"class\", \"x\", \"y\", \"w\", \"h\", \"file\"])\n",
    "    for idx, label in enumerate(labels):\n",
    "        bbox_df = pd.read_csv(label, delim_whitespace=True, header=None, names=[\"class\", \"x\", \"y\", \"w\", \"h\"])\n",
    "        bbox_df[\"file\"] = idx\n",
    "        df = df.append(bbox_df)\n",
    "        \n",
    "    df[\"size\"] = df[\"w\"] * df[\"h\"]\n",
    "    df[\"ratio\"] = df[\"w\"] / df[\"h\"]\n",
    "    df[\"grid_x\"] = df[\"x\"] // grid_step\n",
    "    df[\"grid_x\"] = df[\"grid_x\"].astype(\"int\")\n",
    "    df[\"grid_y\"] = df[\"y\"] // grid_step\n",
    "    df[\"grid_y\"] = df[\"grid_y\"].astype(\"int\")\n",
    "    df[\"grid_idx\"] = df[\"grid_x\"] + GRID_SIZE * df[\"grid_y\"]\n",
    "    \n",
    "    return df"
   ]
  },
  {
   "cell_type": "code",
   "execution_count": 11,
   "metadata": {},
   "outputs": [
    {
     "data": {
      "text/html": [
       "<div>\n",
       "<style scoped>\n",
       "    .dataframe tbody tr th:only-of-type {\n",
       "        vertical-align: middle;\n",
       "    }\n",
       "\n",
       "    .dataframe tbody tr th {\n",
       "        vertical-align: top;\n",
       "    }\n",
       "\n",
       "    .dataframe thead th {\n",
       "        text-align: right;\n",
       "    }\n",
       "</style>\n",
       "<table border=\"1\" class=\"dataframe\">\n",
       "  <thead>\n",
       "    <tr style=\"text-align: right;\">\n",
       "      <th></th>\n",
       "      <th>class</th>\n",
       "      <th>x</th>\n",
       "      <th>y</th>\n",
       "      <th>w</th>\n",
       "      <th>h</th>\n",
       "      <th>file</th>\n",
       "      <th>size</th>\n",
       "      <th>ratio</th>\n",
       "      <th>grid_x</th>\n",
       "      <th>grid_y</th>\n",
       "      <th>grid_idx</th>\n",
       "    </tr>\n",
       "  </thead>\n",
       "  <tbody>\n",
       "    <tr>\n",
       "      <th>0</th>\n",
       "      <td>13</td>\n",
       "      <td>0.656156</td>\n",
       "      <td>0.558000</td>\n",
       "      <td>0.681682</td>\n",
       "      <td>0.468000</td>\n",
       "      <td>0</td>\n",
       "      <td>0.319027</td>\n",
       "      <td>1.456585</td>\n",
       "      <td>4</td>\n",
       "      <td>3</td>\n",
       "      <td>25</td>\n",
       "    </tr>\n",
       "    <tr>\n",
       "      <th>1</th>\n",
       "      <td>14</td>\n",
       "      <td>0.800300</td>\n",
       "      <td>0.389000</td>\n",
       "      <td>0.393393</td>\n",
       "      <td>0.538000</td>\n",
       "      <td>0</td>\n",
       "      <td>0.211646</td>\n",
       "      <td>0.731214</td>\n",
       "      <td>5</td>\n",
       "      <td>2</td>\n",
       "      <td>19</td>\n",
       "    </tr>\n",
       "    <tr>\n",
       "      <th>2</th>\n",
       "      <td>14</td>\n",
       "      <td>0.331832</td>\n",
       "      <td>0.466000</td>\n",
       "      <td>0.099099</td>\n",
       "      <td>0.076000</td>\n",
       "      <td>0</td>\n",
       "      <td>0.007532</td>\n",
       "      <td>1.303936</td>\n",
       "      <td>2</td>\n",
       "      <td>3</td>\n",
       "      <td>23</td>\n",
       "    </tr>\n",
       "    <tr>\n",
       "      <th>0</th>\n",
       "      <td>2</td>\n",
       "      <td>0.415000</td>\n",
       "      <td>0.498498</td>\n",
       "      <td>0.190000</td>\n",
       "      <td>0.180180</td>\n",
       "      <td>1</td>\n",
       "      <td>0.034234</td>\n",
       "      <td>1.054500</td>\n",
       "      <td>2</td>\n",
       "      <td>3</td>\n",
       "      <td>23</td>\n",
       "    </tr>\n",
       "    <tr>\n",
       "      <th>0</th>\n",
       "      <td>2</td>\n",
       "      <td>0.509000</td>\n",
       "      <td>0.446667</td>\n",
       "      <td>0.182000</td>\n",
       "      <td>0.194667</td>\n",
       "      <td>2</td>\n",
       "      <td>0.035429</td>\n",
       "      <td>0.934932</td>\n",
       "      <td>3</td>\n",
       "      <td>3</td>\n",
       "      <td>24</td>\n",
       "    </tr>\n",
       "  </tbody>\n",
       "</table>\n",
       "</div>"
      ],
      "text/plain": [
       "  class         x         y         w         h file      size     ratio  \\\n",
       "0    13  0.656156  0.558000  0.681682  0.468000    0  0.319027  1.456585   \n",
       "1    14  0.800300  0.389000  0.393393  0.538000    0  0.211646  0.731214   \n",
       "2    14  0.331832  0.466000  0.099099  0.076000    0  0.007532  1.303936   \n",
       "0     2  0.415000  0.498498  0.190000  0.180180    1  0.034234  1.054500   \n",
       "0     2  0.509000  0.446667  0.182000  0.194667    2  0.035429  0.934932   \n",
       "\n",
       "   grid_x  grid_y  grid_idx  \n",
       "0       4       3        25  \n",
       "1       5       2        19  \n",
       "2       2       3        23  \n",
       "0       2       3        23  \n",
       "0       3       3        24  "
      ]
     },
     "execution_count": 11,
     "metadata": {},
     "output_type": "execute_result"
    }
   ],
   "source": [
    "voc2007_df = read_labels_to_dataframe(voc2007_labels)\n",
    "voc2007_df.head()"
   ]
  },
  {
   "cell_type": "code",
   "execution_count": 12,
   "metadata": {},
   "outputs": [
    {
     "data": {
      "text/html": [
       "<div>\n",
       "<style scoped>\n",
       "    .dataframe tbody tr th:only-of-type {\n",
       "        vertical-align: middle;\n",
       "    }\n",
       "\n",
       "    .dataframe tbody tr th {\n",
       "        vertical-align: top;\n",
       "    }\n",
       "\n",
       "    .dataframe thead th {\n",
       "        text-align: right;\n",
       "    }\n",
       "</style>\n",
       "<table border=\"1\" class=\"dataframe\">\n",
       "  <thead>\n",
       "    <tr style=\"text-align: right;\">\n",
       "      <th></th>\n",
       "      <th>class</th>\n",
       "      <th>x</th>\n",
       "      <th>y</th>\n",
       "      <th>w</th>\n",
       "      <th>h</th>\n",
       "      <th>file</th>\n",
       "      <th>size</th>\n",
       "      <th>ratio</th>\n",
       "      <th>grid_x</th>\n",
       "      <th>grid_y</th>\n",
       "      <th>grid_idx</th>\n",
       "    </tr>\n",
       "  </thead>\n",
       "  <tbody>\n",
       "    <tr>\n",
       "      <th>0</th>\n",
       "      <td>14</td>\n",
       "      <td>0.433934</td>\n",
       "      <td>0.416000</td>\n",
       "      <td>0.723724</td>\n",
       "      <td>0.356000</td>\n",
       "      <td>0</td>\n",
       "      <td>0.257646</td>\n",
       "      <td>2.032932</td>\n",
       "      <td>3</td>\n",
       "      <td>2</td>\n",
       "      <td>17</td>\n",
       "    </tr>\n",
       "    <tr>\n",
       "      <th>0</th>\n",
       "      <td>11</td>\n",
       "      <td>0.708247</td>\n",
       "      <td>0.543000</td>\n",
       "      <td>0.579381</td>\n",
       "      <td>0.914000</td>\n",
       "      <td>1</td>\n",
       "      <td>0.529555</td>\n",
       "      <td>0.633897</td>\n",
       "      <td>4</td>\n",
       "      <td>3</td>\n",
       "      <td>25</td>\n",
       "    </tr>\n",
       "    <tr>\n",
       "      <th>1</th>\n",
       "      <td>11</td>\n",
       "      <td>0.334021</td>\n",
       "      <td>0.458000</td>\n",
       "      <td>0.663918</td>\n",
       "      <td>0.912000</td>\n",
       "      <td>1</td>\n",
       "      <td>0.605493</td>\n",
       "      <td>0.727980</td>\n",
       "      <td>2</td>\n",
       "      <td>3</td>\n",
       "      <td>23</td>\n",
       "    </tr>\n",
       "    <tr>\n",
       "      <th>0</th>\n",
       "      <td>14</td>\n",
       "      <td>0.337000</td>\n",
       "      <td>0.333333</td>\n",
       "      <td>0.266000</td>\n",
       "      <td>0.510511</td>\n",
       "      <td>2</td>\n",
       "      <td>0.135796</td>\n",
       "      <td>0.521047</td>\n",
       "      <td>2</td>\n",
       "      <td>2</td>\n",
       "      <td>16</td>\n",
       "    </tr>\n",
       "    <tr>\n",
       "      <th>0</th>\n",
       "      <td>13</td>\n",
       "      <td>0.511000</td>\n",
       "      <td>0.597598</td>\n",
       "      <td>0.074000</td>\n",
       "      <td>0.060060</td>\n",
       "      <td>3</td>\n",
       "      <td>0.004444</td>\n",
       "      <td>1.232100</td>\n",
       "      <td>3</td>\n",
       "      <td>4</td>\n",
       "      <td>31</td>\n",
       "    </tr>\n",
       "  </tbody>\n",
       "</table>\n",
       "</div>"
      ],
      "text/plain": [
       "  class         x         y         w         h file      size     ratio  \\\n",
       "0    14  0.433934  0.416000  0.723724  0.356000    0  0.257646  2.032932   \n",
       "0    11  0.708247  0.543000  0.579381  0.914000    1  0.529555  0.633897   \n",
       "1    11  0.334021  0.458000  0.663918  0.912000    1  0.605493  0.727980   \n",
       "0    14  0.337000  0.333333  0.266000  0.510511    2  0.135796  0.521047   \n",
       "0    13  0.511000  0.597598  0.074000  0.060060    3  0.004444  1.232100   \n",
       "\n",
       "   grid_x  grid_y  grid_idx  \n",
       "0       3       2        17  \n",
       "0       4       3        25  \n",
       "1       2       3        23  \n",
       "0       2       2        16  \n",
       "0       3       4        31  "
      ]
     },
     "execution_count": 12,
     "metadata": {},
     "output_type": "execute_result"
    }
   ],
   "source": [
    "voc2012_df = read_labels_to_dataframe(voc2012_labels)\n",
    "voc2012_df.head()"
   ]
  },
  {
   "cell_type": "code",
   "execution_count": 13,
   "metadata": {},
   "outputs": [
    {
     "data": {
      "text/html": [
       "<div>\n",
       "<style scoped>\n",
       "    .dataframe tbody tr th:only-of-type {\n",
       "        vertical-align: middle;\n",
       "    }\n",
       "\n",
       "    .dataframe tbody tr th {\n",
       "        vertical-align: top;\n",
       "    }\n",
       "\n",
       "    .dataframe thead th {\n",
       "        text-align: right;\n",
       "    }\n",
       "</style>\n",
       "<table border=\"1\" class=\"dataframe\">\n",
       "  <thead>\n",
       "    <tr style=\"text-align: right;\">\n",
       "      <th></th>\n",
       "      <th>class</th>\n",
       "      <th>x</th>\n",
       "      <th>y</th>\n",
       "      <th>w</th>\n",
       "      <th>h</th>\n",
       "      <th>file</th>\n",
       "      <th>size</th>\n",
       "      <th>ratio</th>\n",
       "      <th>grid_x</th>\n",
       "      <th>grid_y</th>\n",
       "      <th>grid_idx</th>\n",
       "    </tr>\n",
       "  </thead>\n",
       "  <tbody>\n",
       "    <tr>\n",
       "      <th>0</th>\n",
       "      <td>9</td>\n",
       "      <td>0.958</td>\n",
       "      <td>0.450667</td>\n",
       "      <td>0.084</td>\n",
       "      <td>0.106667</td>\n",
       "      <td>0</td>\n",
       "      <td>0.008960</td>\n",
       "      <td>0.787500</td>\n",
       "      <td>6</td>\n",
       "      <td>3</td>\n",
       "      <td>27</td>\n",
       "    </tr>\n",
       "    <tr>\n",
       "      <th>1</th>\n",
       "      <td>9</td>\n",
       "      <td>0.450</td>\n",
       "      <td>0.500000</td>\n",
       "      <td>0.060</td>\n",
       "      <td>0.136000</td>\n",
       "      <td>0</td>\n",
       "      <td>0.008160</td>\n",
       "      <td>0.441176</td>\n",
       "      <td>3</td>\n",
       "      <td>3</td>\n",
       "      <td>24</td>\n",
       "    </tr>\n",
       "    <tr>\n",
       "      <th>2</th>\n",
       "      <td>9</td>\n",
       "      <td>0.169</td>\n",
       "      <td>0.646667</td>\n",
       "      <td>0.162</td>\n",
       "      <td>0.141333</td>\n",
       "      <td>0</td>\n",
       "      <td>0.022896</td>\n",
       "      <td>1.146226</td>\n",
       "      <td>1</td>\n",
       "      <td>4</td>\n",
       "      <td>29</td>\n",
       "    </tr>\n",
       "    <tr>\n",
       "      <th>0</th>\n",
       "      <td>11</td>\n",
       "      <td>0.790</td>\n",
       "      <td>0.697333</td>\n",
       "      <td>0.080</td>\n",
       "      <td>0.114667</td>\n",
       "      <td>1</td>\n",
       "      <td>0.009173</td>\n",
       "      <td>0.697674</td>\n",
       "      <td>5</td>\n",
       "      <td>4</td>\n",
       "      <td>33</td>\n",
       "    </tr>\n",
       "    <tr>\n",
       "      <th>1</th>\n",
       "      <td>11</td>\n",
       "      <td>0.307</td>\n",
       "      <td>0.701333</td>\n",
       "      <td>0.138</td>\n",
       "      <td>0.149333</td>\n",
       "      <td>1</td>\n",
       "      <td>0.020608</td>\n",
       "      <td>0.924107</td>\n",
       "      <td>2</td>\n",
       "      <td>4</td>\n",
       "      <td>30</td>\n",
       "    </tr>\n",
       "  </tbody>\n",
       "</table>\n",
       "</div>"
      ],
      "text/plain": [
       "  class      x         y      w         h file      size     ratio  grid_x  \\\n",
       "0     9  0.958  0.450667  0.084  0.106667    0  0.008960  0.787500       6   \n",
       "1     9  0.450  0.500000  0.060  0.136000    0  0.008160  0.441176       3   \n",
       "2     9  0.169  0.646667  0.162  0.141333    0  0.022896  1.146226       1   \n",
       "0    11  0.790  0.697333  0.080  0.114667    1  0.009173  0.697674       5   \n",
       "1    11  0.307  0.701333  0.138  0.149333    1  0.020608  0.924107       2   \n",
       "\n",
       "   grid_y  grid_idx  \n",
       "0       3        27  \n",
       "1       3        24  \n",
       "2       4        29  \n",
       "0       4        33  \n",
       "1       4        30  "
      ]
     },
     "execution_count": 13,
     "metadata": {},
     "output_type": "execute_result"
    }
   ],
   "source": [
    "voc2007_test_df = read_labels_to_dataframe(voc2007_test_labels)\n",
    "voc2007_test_df.head()"
   ]
  },
  {
   "cell_type": "markdown",
   "metadata": {},
   "source": [
    "## Object class distribution"
   ]
  },
  {
   "cell_type": "code",
   "execution_count": 14,
   "metadata": {},
   "outputs": [
    {
     "data": {
      "image/png": "[encoded data removed]",
      "text/plain": [
       "<Figure size 1440x720 with 1 Axes>"
      ]
     },
     "metadata": {},
     "output_type": "display_data"
    }
   ],
   "source": [
    "def plot_class_dist():\n",
    "    class_df = pd.DataFrame()\n",
    "    class_df[\"2007\"] = voc2007_df[[\"class\", \"file\"]].groupby(\"class\").count()[\"file\"]\n",
    "    class_df[\"2012\"] = voc2012_df[[\"class\", \"file\"]].groupby(\"class\").count()[\"file\"]\n",
    "    class_df[\"2007_test\"] = voc2007_test_df[[\"class\", \"file\"]].groupby(\"class\").count()[\"file\"]\n",
    "    class_df.index = constants.CLASS_NAME\n",
    "    \n",
    "    class_df.plot.bar(figsize=(20, 10), colormap='Paired', title=\"class distribution\")\n",
    "    \n",
    "plot_class_dist()"
   ]
  },
  {
   "cell_type": "markdown",
   "metadata": {},
   "source": [
    "## Object location distribution"
   ]
  },
  {
   "cell_type": "code",
   "execution_count": 15,
   "metadata": {},
   "outputs": [
    {
     "data": {
      "image/png": "[encoded data removed]",
      "text/plain": [
       "<Figure size 1440x720 with 1 Axes>"
      ]
     },
     "metadata": {},
     "output_type": "display_data"
    }
   ],
   "source": [
    "def plot_object_grid_index():\n",
    "    \n",
    "    idx_df = pd.DataFrame()\n",
    "    idx_df[\"2007\"] = voc2007_df[[\"grid_idx\", \"file\"]].groupby(\"grid_idx\").count()\n",
    "    idx_df[\"2012\"] = voc2012_df[[\"grid_idx\", \"file\"]].groupby(\"grid_idx\").count()\n",
    "    idx_df[\"2007_test\"] = voc2007_test_df[[\"grid_idx\", \"file\"]].groupby(\"grid_idx\").count()\n",
    "    idx_df.index = np.arange(GRID_SIZE * GRID_SIZE)\n",
    "    idx_df.fillna(0)\n",
    "\n",
    "    idx_df.plot.bar(figsize=(20, 10), colormap='Paired', title=\"grid_dix distribution\")\n",
    "    \n",
    "plot_object_grid_index()"
   ]
  },
  {
   "cell_type": "markdown",
   "metadata": {},
   "source": [
    "## Numbers of objects in an image"
   ]
  },
  {
   "cell_type": "code",
   "execution_count": 16,
   "metadata": {},
   "outputs": [
    {
     "data": {
      "image/png": "[encoded data removed]",
      "text/plain": [
       "<Figure size 1440x720 with 1 Axes>"
      ]
     },
     "metadata": {},
     "output_type": "display_data"
    }
   ],
   "source": [
    "def plot_objects_in_image():\n",
    "    \n",
    "    MAX_NUM = 10\n",
    "    \n",
    "    num1 = voc2007_df[[\"class\", \"file\"]].groupby(\"file\").count()\n",
    "    num2 = voc2012_df[[\"class\", \"file\"]].groupby(\"file\").count()\n",
    "    num3 = voc2007_test_df[[\"class\", \"file\"]].groupby(\"file\").count()\n",
    "    \n",
    "    hist1, edge = np.histogram(num1, bins=MAX_NUM, range=(0, MAX_NUM))\n",
    "    hist2, _ = np.histogram(num2, bins=MAX_NUM, range=(0, MAX_NUM))\n",
    "    hist3, _ = np.histogram(num3, bins=MAX_NUM, range=(0, MAX_NUM))\n",
    "    \n",
    "    hist1 = np.append(hist1, num1[num1[\"class\"] > MAX_NUM].count()[0])\n",
    "    hist2 = np.append(hist2, num2[num2[\"class\"] > MAX_NUM].count()[0])\n",
    "    hist3 = np.append(hist3, num3[num3[\"class\"] > MAX_NUM].count()[0])\n",
    "    \n",
    "    plt.figure(figsize=(20, 10))\n",
    "    ax = plt.gca()\n",
    "\n",
    "    ax.bar(edge + 0.00, hist1, width=0.25, label=\"2007\")\n",
    "    ax.bar(edge + 0.27, hist2, width=0.25, label=\"2012\", color=\"red\")\n",
    "    ax.bar(edge + 0.54, hist3, width=0.25, label=\"2007_test\")\n",
    "    \n",
    "    ax.set_xticks(edge)\n",
    "    ax.legend()\n",
    "    ax.set_title(\"Number of objects in a image\")\n",
    "    plt.show()\n",
    "    \n",
    "plot_objects_in_image()   "
   ]
  },
  {
   "cell_type": "markdown",
   "metadata": {},
   "source": [
    "## Object size"
   ]
  },
  {
   "cell_type": "code",
   "execution_count": 17,
   "metadata": {},
   "outputs": [
    {
     "data": {
      "image/png": "[encoded data removed]",
      "text/plain": [
       "<Figure size 1440x720 with 1 Axes>"
      ]
     },
     "metadata": {},
     "output_type": "display_data"
    }
   ],
   "source": [
    "def plot_size_dist():\n",
    "    hist1, edge = np.histogram(voc2007_df[\"size\"], bins=10, range=(0, 1))\n",
    "    hist2, _ = np.histogram(voc2012_df[\"size\"], bins=10, range=(0, 1))\n",
    "    hist3, _ = np.histogram(voc2007_test_df[\"size\"], bins=10, range=(0, 1))\n",
    "    \n",
    "    plt.figure(figsize=(20, 10))\n",
    "    ax = plt.gca()\n",
    "\n",
    "    ax.bar(edge[:-1] + 0.000, hist1, width=0.025, label=\"2007\")\n",
    "    ax.bar(edge[:-1] + 0.027, hist2, width=0.025, label=\"2012\", color=\"red\")\n",
    "    ax.bar(edge[:-1] + 0.054, hist3, width=0.025, label=\"2007_test\")\n",
    "\n",
    "    ax.set_xticks(edge)\n",
    "    \n",
    "    ax.legend()\n",
    "    ax.set_title(\"Size(w*h) distribution\")\n",
    "    plt.show()\n",
    "\n",
    "plot_size_dist()"
   ]
  },
  {
   "cell_type": "markdown",
   "metadata": {},
   "source": [
    "## Bounding Box width, height ratio"
   ]
  },
  {
   "cell_type": "code",
   "execution_count": 18,
   "metadata": {},
   "outputs": [
    {
     "data": {
      "image/png": "[encoded data removed]",
      "text/plain": [
       "<Figure size 1440x720 with 1 Axes>"
      ]
     },
     "metadata": {},
     "output_type": "display_data"
    }
   ],
   "source": [
    "def plot_ratio_dist():\n",
    "    hist1, edge = np.histogram(voc2007_df[\"ratio\"], bins=20, range=(0, 5))\n",
    "    hist2, _ = np.histogram(voc2012_df[\"ratio\"], bins=20, range=(0, 5))\n",
    "    hist3, _ = np.histogram(voc2007_test_df[\"ratio\"], bins=20, range=(0, 5))\n",
    "    \n",
    "    plt.figure(figsize=(20, 10))\n",
    "    ax = plt.gca()\n",
    "\n",
    "    ax.bar(edge[:-1] + 0.00, hist1, width=0.06, label=\"2007\")\n",
    "    ax.bar(edge[:-1] + 0.07, hist2, width=0.06, label=\"2012\", color=\"red\")\n",
    "    ax.bar(edge[:-1] + 0.14, hist3, width=0.06, label=\"2007_test\")\n",
    "\n",
    "    ax.set_xticks(edge)\n",
    "    \n",
    "    ax.legend()\n",
    "    ax.set_title(\"Ration(w/h) distribution\")\n",
    "    plt.show()\n",
    "    \n",
    "plot_ratio_dist()"
   ]
  },
  {
   "cell_type": "markdown",
   "metadata": {},
   "source": [
    "# Train, Valid split"
   ]
  },
  {
   "cell_type": "code",
   "execution_count": 19,
   "metadata": {},
   "outputs": [
    {
     "name": "stdout",
     "output_type": "stream",
     "text": [
      "(15680,) (15680,)\n"
     ]
    }
   ],
   "source": [
    "all_images = np.concatenate([voc2007_images, voc2012_images, voc2007_test_images])\n",
    "all_labels = np.concatenate([voc2007_labels, voc2012_labels, voc2007_test_labels])\n",
    "\n",
    "print(all_images.shape, all_labels.shape)"
   ]
  },
  {
   "cell_type": "code",
   "execution_count": 20,
   "metadata": {},
   "outputs": [],
   "source": [
    "from sklearn.model_selection import train_test_split"
   ]
  },
  {
   "cell_type": "code",
   "execution_count": 21,
   "metadata": {},
   "outputs": [
    {
     "name": "stdout",
     "output_type": "stream",
     "text": [
      "(12544,) (12544,)\n",
      "(3136,) (3136,)\n"
     ]
    }
   ],
   "source": [
    "train_images, test_images, train_labels, test_labels = train_test_split(\n",
    "    all_images, all_labels, test_size=TRAIN_VALID_SPLIT, random_state=87)\n",
    "\n",
    "print(train_images.shape, train_labels.shape)\n",
    "print(test_images.shape, test_labels.shape)"
   ]
  },
  {
   "cell_type": "code",
   "execution_count": 22,
   "metadata": {},
   "outputs": [],
   "source": [
    "def copy_file(source, dest_dir, extension):\n",
    "    for i in range(len(source)):\n",
    "        ori_name = source[i]\n",
    "        file_name = \"{}{:0>5d}{}\".format(dest_dir, i, extension)\n",
    "        \n",
    "        %cp $ori_name $file_name"
   ]
  },
  {
   "cell_type": "code",
   "execution_count": 23,
   "metadata": {},
   "outputs": [],
   "source": [
    "# copy_file(test_images, \"../data/valid/images/\", \".jpg\")"
   ]
  },
  {
   "cell_type": "code",
   "execution_count": 24,
   "metadata": {},
   "outputs": [],
   "source": [
    "# copy_file(test_labels, \"../data/valid/labels/\", \".txt\")"
   ]
  },
  {
   "cell_type": "code",
   "execution_count": 25,
   "metadata": {},
   "outputs": [],
   "source": [
    "# copy_file(train_images, \"../data/train/images/\", \".jpg\")"
   ]
  },
  {
   "cell_type": "code",
   "execution_count": 26,
   "metadata": {},
   "outputs": [],
   "source": [
    "# copy_file(train_labels, \"../data/train/labels/\", \".txt\")"
   ]
  },
  {
   "cell_type": "code",
   "execution_count": null,
   "metadata": {},
   "outputs": [],
   "source": []
  }
 ],
 "metadata": {
  "kernelspec": {
   "display_name": "Python 3",
   "language": "python",
   "name": "python3"
  },
  "language_info": {
   "codemirror_mode": {
    "name": "ipython",
    "version": 3
   },
   "file_extension": ".py",
   "mimetype": "text/x-python",
   "name": "python",
   "nbconvert_exporter": "python",
   "pygments_lexer": "ipython3",
   "version": "3.5.2"
  }
 },
 "nbformat": 4,
 "nbformat_minor": 2
}
