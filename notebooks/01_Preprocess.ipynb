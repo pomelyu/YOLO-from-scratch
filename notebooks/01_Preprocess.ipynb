{
 "cells": [
  {
   "cell_type": "code",
   "execution_count": 1,
   "metadata": {},
   "outputs": [],
   "source": [
    "# Path setup\n",
    "import sys\n",
    "import os\n",
    "import importlib\n",
    "import time\n",
    "from IPython.display import clear_output\n",
    "\n",
    "%matplotlib inline\n",
    "\n",
    "sys.path.append(os.path.dirname(os.path.join(os.getcwd(), \"../src\")))"
   ]
  },
  {
   "cell_type": "code",
   "execution_count": 2,
   "metadata": {},
   "outputs": [],
   "source": [
    "import matplotlib.pyplot as plt\n",
    "import matplotlib.patches as patches\n",
    "import numpy as np"
   ]
  },
  {
   "cell_type": "markdown",
   "metadata": {},
   "source": [
    "# Preprocess images and labels"
   ]
  },
  {
   "cell_type": "code",
   "execution_count": 3,
   "metadata": {},
   "outputs": [],
   "source": [
    "from src import utils, preprocess, constants, image_transform"
   ]
  },
  {
   "cell_type": "code",
   "execution_count": 4,
   "metadata": {},
   "outputs": [],
   "source": [
    "# preprocess.preprocess_data(\"../data/Test/images\",\n",
    "#                            \"../data/Test/labels\",\n",
    "#                            \"../data/Test/pre_images\",\n",
    "#                            \"../data/Test/pre_labels\")"
   ]
  },
  {
   "cell_type": "code",
   "execution_count": 5,
   "metadata": {},
   "outputs": [],
   "source": [
    "# preprocess.preprocess_data(\"../data/VOC2007/images\",\n",
    "#                            \"../data/VOC2007/labels\",\n",
    "#                            \"../data/VOC2007/pre_images\",\n",
    "#                            \"../data/VOC2007/pre_labels\")"
   ]
  },
  {
   "cell_type": "code",
   "execution_count": 6,
   "metadata": {},
   "outputs": [],
   "source": [
    "# preprocess.preprocess_data(\"../data/VOC2007_test/images\",\n",
    "#                            \"../data/VOC2007_test/labels\",\n",
    "#                            \"../data/VOC2007_test/pre_images\",\n",
    "#                            \"../data/VOC2007_test/pre_labels\")"
   ]
  },
  {
   "cell_type": "code",
   "execution_count": 7,
   "metadata": {},
   "outputs": [],
   "source": [
    "# preprocess.preprocess_data(\"../data/VOC2012/images\",\n",
    "#                            \"../data/VOC2012/labels\",\n",
    "#                            \"../data/VOC2012/pre_images\",\n",
    "#                            \"../data/VOC2012/pre_labels\")"
   ]
  },
  {
   "cell_type": "code",
   "execution_count": 8,
   "metadata": {},
   "outputs": [],
   "source": [
    "preprocess.preprocess_data(\"../data/train/images\",\n",
    "                           \"../data/train/labels\",\n",
    "                           \"../data/train/pre_images\",\n",
    "                           \"../data/train/pre_labels\")"
   ]
  },
  {
   "cell_type": "code",
   "execution_count": 9,
   "metadata": {},
   "outputs": [],
   "source": [
    "preprocess.preprocess_data(\"../data/valid/images\",\n",
    "                           \"../data/valid/labels\",\n",
    "                           \"../data/valid/pre_images\",\n",
    "                           \"../data/valid/pre_labels\")"
   ]
  },
  {
   "cell_type": "markdown",
   "metadata": {},
   "source": [
    "# Argument images by flip"
   ]
  },
  {
   "cell_type": "code",
   "execution_count": 10,
   "metadata": {},
   "outputs": [],
   "source": [
    "# preprocess.flip_image(\n",
    "#     images_dir=\"../data/Test/pre_images/\",\n",
    "#     labels_dir=\"../data/Test/pre_labels/\",\n",
    "#     images_out=\"../data/Test/arg_images/\",\n",
    "#     labels_out=\"../data/Test/arg_labels/\",\n",
    "# )"
   ]
  },
  {
   "cell_type": "code",
   "execution_count": 11,
   "metadata": {},
   "outputs": [],
   "source": [
    "# preprocess.flip_image(\n",
    "#     images_dir=\"../data/VOC2007/pre_images/\",\n",
    "#     labels_dir=\"../data/VOC2007/pre_labels/\",\n",
    "#     images_out=\"../data/VOC2007/arg_images/\",\n",
    "#     labels_out=\"../data/VOC2007/arg_labels/\",\n",
    "# )"
   ]
  },
  {
   "cell_type": "code",
   "execution_count": 12,
   "metadata": {},
   "outputs": [],
   "source": [
    "# preprocess.flip_image(\n",
    "#     images_dir=\"../data/VOC2012/pre_images/\",\n",
    "#     labels_dir=\"../data/VOC2012/pre_labels/\",\n",
    "#     images_out=\"../data/VOC2012/arg_images/\",\n",
    "#     labels_out=\"../data/VOC2012/arg_labels/\",\n",
    "# )"
   ]
  },
  {
   "cell_type": "code",
   "execution_count": 13,
   "metadata": {},
   "outputs": [],
   "source": [
    "preprocess.flip_image(\n",
    "    images_dir=\"../data/train/pre_images/\",\n",
    "    labels_dir=\"../data/train/pre_labels/\",\n",
    "    images_out=\"../data/train/arg_images/\",\n",
    "    labels_out=\"../data/train/arg_labels/\",\n",
    ")"
   ]
  },
  {
   "cell_type": "code",
   "execution_count": 14,
   "metadata": {},
   "outputs": [],
   "source": [
    "preprocess.flip_image(\n",
    "    images_dir=\"../data/valid/pre_images/\",\n",
    "    labels_dir=\"../data/valid/pre_labels/\",\n",
    "    images_out=\"../data/valid/arg_images/\",\n",
    "    labels_out=\"../data/valid/arg_labels/\",\n",
    ")"
   ]
  },
  {
   "cell_type": "markdown",
   "metadata": {},
   "source": [
    "# Argument images and store to disk"
   ]
  },
  {
   "cell_type": "code",
   "execution_count": 28,
   "metadata": {},
   "outputs": [],
   "source": [
    "preprocess.argument_data(\n",
    "    images_dir=\"../data/Test/pre_images/\",\n",
    "    labels_dir=\"../data/Test/pre_labels/\",\n",
    "    images_out=\"../data/Test/arg_images/\",\n",
    "    labels_out=\"../data/Test/arg_labels/\",\n",
    "    argument_size=5\n",
    ")"
   ]
  },
  {
   "cell_type": "code",
   "execution_count": 29,
   "metadata": {},
   "outputs": [],
   "source": [
    "preprocess.argument_data(\n",
    "    images_dir=\"../data/VOC2007/pre_images/\",\n",
    "    labels_dir=\"../data/VOC2007/pre_labels/\",\n",
    "    images_out=\"../data/VOC2007/arg_images/\",\n",
    "    labels_out=\"../data/VOC2007/arg_labels/\",\n",
    "    argument_size=5\n",
    ")"
   ]
  },
  {
   "cell_type": "code",
   "execution_count": 35,
   "metadata": {},
   "outputs": [],
   "source": [
    "preprocess.argument_data(\n",
    "    images_dir=\"../data/VOC2012/pre_images/\",\n",
    "    labels_dir=\"../data/VOC2012/pre_labels/\",\n",
    "    images_out=\"../data/VOC2012/arg_images/\",\n",
    "    labels_out=\"../data/VOC2012/arg_labels/\",\n",
    "    argument_size=5\n",
    ")"
   ]
  },
  {
   "cell_type": "code",
   "execution_count": null,
   "metadata": {},
   "outputs": [],
   "source": []
  }
 ],
 "metadata": {
  "kernelspec": {
   "display_name": "Python 3",
   "language": "python",
   "name": "python3"
  },
  "language_info": {
   "codemirror_mode": {
    "name": "ipython",
    "version": 3
   },
   "file_extension": ".py",
   "mimetype": "text/x-python",
   "name": "python",
   "nbconvert_exporter": "python",
   "pygments_lexer": "ipython3",
   "version": "3.5.2"
  }
 },
 "nbformat": 4,
 "nbformat_minor": 2
}
